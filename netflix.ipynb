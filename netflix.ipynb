{
 "cells": [
  {
   "cell_type": "code",
   "execution_count": 1,
   "metadata": {},
   "outputs": [],
   "source": [
    "# Importing libraries\n",
    "import math  # Math library for mathematical operations\n",
    "import pandas as pd  # Pandas for data manipulation and analysis\n",
    "import matplotlib.pyplot as plt  # Matplotlib for creating visualizations\n",
    "import seaborn as sns  # Seaborn for statistical data visualization\n",
    "import plotly_express as px  # Plotly Express for interactive visualizations\n",
    "from sklearn.feature_extraction.text import CountVectorizer  # CountVectorizer for converting text data into numerical vectors\n",
    "from sklearn.metrics.pairwise import cosine_similarity  # Cosine similarity for measuring similarity between vectors\n"
   ]
  },
  {
   "cell_type": "code",
   "execution_count": 2,
   "metadata": {},
   "outputs": [
    {
     "data": {
      "text/html": [
       "<div>\n",
       "<style scoped>\n",
       "    .dataframe tbody tr th:only-of-type {\n",
       "        vertical-align: middle;\n",
       "    }\n",
       "\n",
       "    .dataframe tbody tr th {\n",
       "        vertical-align: top;\n",
       "    }\n",
       "\n",
       "    .dataframe thead th {\n",
       "        text-align: right;\n",
       "    }\n",
       "</style>\n",
       "<table border=\"1\" class=\"dataframe\">\n",
       "  <thead>\n",
       "    <tr style=\"text-align: right;\">\n",
       "      <th></th>\n",
       "      <th>Genre</th>\n",
       "      <th>Tags</th>\n",
       "      <th>Languages</th>\n",
       "      <th>Country Availability</th>\n",
       "      <th>Runtime</th>\n",
       "      <th>Director</th>\n",
       "      <th>Writer</th>\n",
       "      <th>Actors</th>\n",
       "      <th>View Rating</th>\n",
       "      <th>IMDb Score</th>\n",
       "      <th>...</th>\n",
       "      <th>Awards Nominated For</th>\n",
       "      <th>Boxoffice</th>\n",
       "      <th>Release Date</th>\n",
       "      <th>Netflix Release Date</th>\n",
       "      <th>Production House</th>\n",
       "      <th>Netflix Link</th>\n",
       "      <th>Summary</th>\n",
       "      <th>Series or Movie</th>\n",
       "      <th>IMDb Votes</th>\n",
       "      <th>Image</th>\n",
       "    </tr>\n",
       "    <tr>\n",
       "      <th>Title</th>\n",
       "      <th></th>\n",
       "      <th></th>\n",
       "      <th></th>\n",
       "      <th></th>\n",
       "      <th></th>\n",
       "      <th></th>\n",
       "      <th></th>\n",
       "      <th></th>\n",
       "      <th></th>\n",
       "      <th></th>\n",
       "      <th></th>\n",
       "      <th></th>\n",
       "      <th></th>\n",
       "      <th></th>\n",
       "      <th></th>\n",
       "      <th></th>\n",
       "      <th></th>\n",
       "      <th></th>\n",
       "      <th></th>\n",
       "      <th></th>\n",
       "      <th></th>\n",
       "    </tr>\n",
       "  </thead>\n",
       "  <tbody>\n",
       "    <tr>\n",
       "      <th>Lets Fight Ghost</th>\n",
       "      <td>Crime, Drama, Fantasy, Horror, Romance</td>\n",
       "      <td>Comedy Programmes,Romantic TV Comedies,Horror ...</td>\n",
       "      <td>Swedish, Spanish</td>\n",
       "      <td>Thailand</td>\n",
       "      <td>&lt; 30 minutes</td>\n",
       "      <td>Tomas Alfredson</td>\n",
       "      <td>John Ajvide Lindqvist</td>\n",
       "      <td>Lina Leandersson, Kåre Hedebrant, Per Ragnar, ...</td>\n",
       "      <td>R</td>\n",
       "      <td>7.9</td>\n",
       "      <td>...</td>\n",
       "      <td>57.0</td>\n",
       "      <td>$21,22,065</td>\n",
       "      <td>12-Dec-08</td>\n",
       "      <td>04-03-2021</td>\n",
       "      <td>Canal+, Sandrew Metronome</td>\n",
       "      <td>https://www.netflix.com/watch/81415947</td>\n",
       "      <td>A med student with a supernatural gift tries t...</td>\n",
       "      <td>Series</td>\n",
       "      <td>205926.0</td>\n",
       "      <td>https://occ-0-4708-64.1.nflxso.net/dnm/api/v6/...</td>\n",
       "    </tr>\n",
       "    <tr>\n",
       "      <th>HOW TO BUILD A GIRL</th>\n",
       "      <td>Comedy</td>\n",
       "      <td>Dramas,Comedies,Films Based on Books,British</td>\n",
       "      <td>English</td>\n",
       "      <td>Canada</td>\n",
       "      <td>1-2 hour</td>\n",
       "      <td>Coky Giedroyc</td>\n",
       "      <td>Caitlin Moran</td>\n",
       "      <td>Cleo, Paddy Considine, Beanie Feldstein, Dónal...</td>\n",
       "      <td>R</td>\n",
       "      <td>5.8</td>\n",
       "      <td>...</td>\n",
       "      <td>NaN</td>\n",
       "      <td>$70,632</td>\n",
       "      <td>08-May-20</td>\n",
       "      <td>04-03-2021</td>\n",
       "      <td>Film 4, Monumental Pictures, Lionsgate</td>\n",
       "      <td>https://www.netflix.com/watch/81041267</td>\n",
       "      <td>When nerdy Johanna moves to London, things get...</td>\n",
       "      <td>Movie</td>\n",
       "      <td>2838.0</td>\n",
       "      <td>https://occ-0-1081-999.1.nflxso.net/dnm/api/v6...</td>\n",
       "    </tr>\n",
       "  </tbody>\n",
       "</table>\n",
       "<p>2 rows × 21 columns</p>\n",
       "</div>"
      ],
      "text/plain": [
       "                                                      Genre  \\\n",
       "Title                                                         \n",
       "Lets Fight Ghost     Crime, Drama, Fantasy, Horror, Romance   \n",
       "HOW TO BUILD A GIRL                                  Comedy   \n",
       "\n",
       "                                                                  Tags  \\\n",
       "Title                                                                    \n",
       "Lets Fight Ghost     Comedy Programmes,Romantic TV Comedies,Horror ...   \n",
       "HOW TO BUILD A GIRL       Dramas,Comedies,Films Based on Books,British   \n",
       "\n",
       "                            Languages Country Availability       Runtime  \\\n",
       "Title                                                                      \n",
       "Lets Fight Ghost     Swedish, Spanish             Thailand  < 30 minutes   \n",
       "HOW TO BUILD A GIRL           English               Canada      1-2 hour   \n",
       "\n",
       "                            Director                 Writer  \\\n",
       "Title                                                         \n",
       "Lets Fight Ghost     Tomas Alfredson  John Ajvide Lindqvist   \n",
       "HOW TO BUILD A GIRL    Coky Giedroyc          Caitlin Moran   \n",
       "\n",
       "                                                                Actors  \\\n",
       "Title                                                                    \n",
       "Lets Fight Ghost     Lina Leandersson, Kåre Hedebrant, Per Ragnar, ...   \n",
       "HOW TO BUILD A GIRL  Cleo, Paddy Considine, Beanie Feldstein, Dónal...   \n",
       "\n",
       "                    View Rating  IMDb Score  ...  Awards Nominated For  \\\n",
       "Title                                        ...                         \n",
       "Lets Fight Ghost              R         7.9  ...                  57.0   \n",
       "HOW TO BUILD A GIRL           R         5.8  ...                   NaN   \n",
       "\n",
       "                      Boxoffice Release Date Netflix Release Date  \\\n",
       "Title                                                               \n",
       "Lets Fight Ghost     $21,22,065    12-Dec-08           04-03-2021   \n",
       "HOW TO BUILD A GIRL     $70,632    08-May-20           04-03-2021   \n",
       "\n",
       "                                           Production House  \\\n",
       "Title                                                         \n",
       "Lets Fight Ghost                  Canal+, Sandrew Metronome   \n",
       "HOW TO BUILD A GIRL  Film 4, Monumental Pictures, Lionsgate   \n",
       "\n",
       "                                               Netflix Link  \\\n",
       "Title                                                         \n",
       "Lets Fight Ghost     https://www.netflix.com/watch/81415947   \n",
       "HOW TO BUILD A GIRL  https://www.netflix.com/watch/81041267   \n",
       "\n",
       "                                                               Summary  \\\n",
       "Title                                                                    \n",
       "Lets Fight Ghost     A med student with a supernatural gift tries t...   \n",
       "HOW TO BUILD A GIRL  When nerdy Johanna moves to London, things get...   \n",
       "\n",
       "                    Series or Movie IMDb Votes  \\\n",
       "Title                                            \n",
       "Lets Fight Ghost             Series   205926.0   \n",
       "HOW TO BUILD A GIRL           Movie     2838.0   \n",
       "\n",
       "                                                                 Image  \n",
       "Title                                                                   \n",
       "Lets Fight Ghost     https://occ-0-4708-64.1.nflxso.net/dnm/api/v6/...  \n",
       "HOW TO BUILD A GIRL  https://occ-0-1081-999.1.nflxso.net/dnm/api/v6...  \n",
       "\n",
       "[2 rows x 21 columns]"
      ]
     },
     "execution_count": 2,
     "metadata": {},
     "output_type": "execute_result"
    }
   ],
   "source": [
    "# Reading the Netflix dataset from a CSV file into a pandas DataFrame\n",
    "netflix_data = pd.read_csv('NetflixDataset.csv', encoding='latin-1', index_col='Title')\n",
    "# Displaying the first two rows of the DataFrame\n",
    "netflix_data.head(2)\n"
   ]
  },
  {
   "cell_type": "code",
   "execution_count": 3,
   "metadata": {},
   "outputs": [],
   "source": [
    "# Converting the index labels to title case\n",
    "netflix_data.index = netflix_data.index.str.title()\n"
   ]
  },
  {
   "cell_type": "code",
   "execution_count": 4,
   "metadata": {},
   "outputs": [
    {
     "data": {
      "image/png": "[encoded data removed]",
      "text/plain": [
       "<Figure size 432x288 with 1 Axes>"
      ]
     },
     "metadata": {},
     "output_type": "display_data"
    }
   ],
   "source": [
    "# Define color palette for the pie chart\n",
    "color = ['blue', 'yellow']\n",
    "# Define labels for the pie chart\n",
    "label = ['Series', 'Movies']\n",
    "# Calculate sizes of each category (Series and Movies)\n",
    "sizes = [\n",
    "    netflix_data[netflix_data['Series or Movie'] == 'Series'].size,\n",
    "    netflix_data[netflix_data['Series or Movie'] == 'Movie'].size\n",
    "]\n",
    "# Define the explode parameter to separate slices (optional)\n",
    "explode = (0.1, 0)\n",
    "\n",
    "# Create a figure and axis for the pie chart\n",
    "fig, ax = plt.subplots()\n",
    "# Plot the pie chart with specified parameters\n",
    "ax.pie(sizes, explode=explode, labels=label, colors=color, autopct='%2.2f%%')\n",
    "# Set aspect ratio to be equal, ensuring a circular pie chart\n",
    "ax.axis('equal')\n",
    "# Display the pie chart\n",
    "plt.show()\n"
   ]
  },
  {
   "cell_type": "code",
   "execution_count": 5,
   "metadata": {},
   "outputs": [],
   "source": [
    "# Renaming the column 'View Rating' to 'ViewerRating'\n",
    "netflix_data.rename(columns={'View Rating': 'ViewerRating'}, inplace=True)\n"
   ]
  },
  {
   "cell_type": "code",
   "execution_count": 6,
   "metadata": {},
   "outputs": [
    {
     "name": "stdout",
     "output_type": "stream",
     "text": [
      "184\n"
     ]
    }
   ],
   "source": [
    "# Extracting language information from the 'Languages' column and creating dummy variables\n",
    "Language = netflix_data['Languages'].str.get_dummies(',')\n",
    "# Extracting column names and converting them to a list\n",
    "Lang = Language.columns.str.strip().values.tolist()\n",
    "# Accessing the 'Languages' column\n",
    "Language = netflix_data['Languages']\n",
    "# Initializing a dictionary to store language counts\n",
    "Language_Count = dict()\n",
    "\n",
    "# Looping through each language\n",
    "for i in Lang:\n",
    "    # Counting the occurrences of each language in the 'Languages' column and summing them up\n",
    "    p = Language.str.count(i).sum()\n",
    "    # Adding the language count to the dictionary\n",
    "    Language_Count[i] = int(p)\n",
    "\n",
    "# Printing the number of unique languages\n",
    "print(len(Language_Count))\n"
   ]
  },
  {
   "cell_type": "code",
   "execution_count": 7,
   "metadata": {},
   "outputs": [],
   "source": [
    "# Sorting the Language_Count dictionary by values in descending order\n",
    "Language_Count = {k: v for k, v in sorted(Language_Count.items(), key=lambda item: item[1], reverse=True)}\n",
    "\n",
    "# Creating a dictionary to store the top languages and their counts\n",
    "top_languages = {\"Languages\": list(Language_Count.keys()), \"Count\": list(Language_Count.values())}\n"
   ]
  },
  {
   "cell_type": "code",
   "execution_count": 8,
   "metadata": {},
   "outputs": [
    {
     "data": {
      "application/vnd.plotly.v1+json": {
       "config": {
        "plotlyServerURL": "https://plot.ly"
       },
       "data": [
        {
         "alignmentgroup": "True",
         "hovertemplate": "Count=%{marker.color}<br>Languages=%{y}<extra></extra>",
         "legendgroup": "",
         "marker": {
          "color": [
           6166,
           1176,
           831,
           802,
           564,
           498,
           348,
           335,
           312,
           276
          ],
          "coloraxis": "coloraxis",
          "pattern": {
           "shape": ""
          }
         },
         "name": "",
         "offsetgroup": "",
         "orientation": "h",
         "showlegend": false,
         "textposition": "auto",
         "type": "bar",
         "x": [
          6166,
          1176,
          831,
          802,
          564,
          498,
          348,
          335,
          312,
          276
         ],
         "xaxis": "x",
         "y": [
          "English",
          "Japanese",
          "Spanish",
          "French",
          "Korean",
          "German",
          "Hindi",
          "Mandarin",
          "Italian",
          "Russian"
         ],
         "yaxis": "y"
        }
       ],
       "layout": {
        "barmode": "relative",
        "coloraxis": {
         "colorbar": {
          "title": {
           "text": "Count"
          }
         },
         "colorscale": [
          [
           0,
           "rgb(95, 70, 144)"
          ],
          [
           0.1,
           "rgb(29, 105, 150)"
          ],
          [
           0.2,
           "rgb(56, 166, 165)"
          ],
          [
           0.3,
           "rgb(15, 133, 84)"
          ],
          [
           0.4,
           "rgb(115, 175, 72)"
          ],
          [
           0.5,
           "rgb(237, 173, 8)"
          ],
          [
           0.6,
           "rgb(225, 124, 5)"
          ],
          [
           0.7,
           "rgb(204, 80, 62)"
          ],
          [
           0.8,
           "rgb(148, 52, 110)"
          ],
          [
           0.9,
           "rgb(111, 64, 112)"
          ],
          [
           1,
           "rgb(102, 102, 102)"
          ]
         ]
        },
        "legend": {
         "tracegroupgap": 0
        },
        "template": {
         "data": {
          "bar": [
           {
            "error_x": {
             "color": "#2a3f5f"
            },
            "error_y": {
             "color": "#2a3f5f"
            },
            "marker": {
             "line": {
              "color": "#E5ECF6",
              "width": 0.5
             },
             "pattern": {
              "fillmode": "overlay",
              "size": 10,
              "solidity": 0.2
             }
            },
            "type": "bar"
           }
          ],
          "barpolar": [
           {
            "marker": {
             "line": {
              "color": "#E5ECF6",
              "width": 0.5
             },
             "pattern": {
              "fillmode": "overlay",
              "size": 10,
              "solidity": 0.2
             }
            },
            "type": "barpolar"
           }
          ],
          "carpet": [
           {
            "aaxis": {
             "endlinecolor": "#2a3f5f",
             "gridcolor": "white",
             "linecolor": "white",
             "minorgridcolor": "white",
             "startlinecolor": "#2a3f5f"
            },
            "baxis": {
             "endlinecolor": "#2a3f5f",
             "gridcolor": "white",
             "linecolor": "white",
             "minorgridcolor": "white",
             "startlinecolor": "#2a3f5f"
            },
            "type": "carpet"
           }
          ],
          "choropleth": [
           {
            "colorbar": {
             "outlinewidth": 0,
             "ticks": ""
            },
            "type": "choropleth"
           }
          ],
          "contour": [
           {
            "colorbar": {
             "outlinewidth": 0,
             "ticks": ""
            },
            "colorscale": [
             [
              0,
              "#0d0887"
             ],
             [
              0.1111111111111111,
              "#46039f"
             ],
             [
              0.2222222222222222,
              "#7201a8"
             ],
             [
              0.3333333333333333,
              "#9c179e"
             ],
             [
              0.4444444444444444,
              "#bd3786"
             ],
             [
              0.5555555555555556,
              "#d8576b"
             ],
             [
              0.6666666666666666,
              "#ed7953"
             ],
             [
              0.7777777777777778,
              "#fb9f3a"
             ],
             [
              0.8888888888888888,
              "#fdca26"
             ],
             [
              1,
              "#f0f921"
             ]
            ],
            "type": "contour"
           }
          ],
          "contourcarpet": [
           {
            "colorbar": {
             "outlinewidth": 0,
             "ticks": ""
            },
            "type": "contourcarpet"
           }
          ],
          "heatmap": [
           {
            "colorbar": {
             "outlinewidth": 0,
             "ticks": ""
            },
            "colorscale": [
             [
              0,
              "#0d0887"
             ],
             [
              0.1111111111111111,
              "#46039f"
             ],
             [
              0.2222222222222222,
              "#7201a8"
             ],
             [
              0.3333333333333333,
              "#9c179e"
             ],
             [
              0.4444444444444444,
              "#bd3786"
             ],
             [
              0.5555555555555556,
              "#d8576b"
             ],
             [
              0.6666666666666666,
              "#ed7953"
             ],
             [
              0.7777777777777778,
              "#fb9f3a"
             ],
             [
              0.8888888888888888,
              "#fdca26"
             ],
             [
              1,
              "#f0f921"
             ]
            ],
            "type": "heatmap"
           }
          ],
          "heatmapgl": [
           {
            "colorbar": {
             "outlinewidth": 0,
             "ticks": ""
            },
            "colorscale": [
             [
              0,
              "#0d0887"
             ],
             [
              0.1111111111111111,
              "#46039f"
             ],
             [
              0.2222222222222222,
              "#7201a8"
             ],
             [
              0.3333333333333333,
              "#9c179e"
             ],
             [
              0.4444444444444444,
              "#bd3786"
             ],
             [
              0.5555555555555556,
              "#d8576b"
             ],
             [
              0.6666666666666666,
              "#ed7953"
             ],
             [
              0.7777777777777778,
              "#fb9f3a"
             ],
             [
              0.8888888888888888,
              "#fdca26"
             ],
             [
              1,
              "#f0f921"
             ]
            ],
            "type": "heatmapgl"
           }
          ],
          "histogram": [
           {
            "marker": {
             "pattern": {
              "fillmode": "overlay",
              "size": 10,
              "solidity": 0.2
             }
            },
            "type": "histogram"
           }
          ],
          "histogram2d": [
           {
            "colorbar": {
             "outlinewidth": 0,
             "ticks": ""
            },
            "colorscale": [
             [
              0,
              "#0d0887"
             ],
             [
              0.1111111111111111,
              "#46039f"
             ],
             [
              0.2222222222222222,
              "#7201a8"
             ],
             [
              0.3333333333333333,
              "#9c179e"
             ],
             [
              0.4444444444444444,
              "#bd3786"
             ],
             [
              0.5555555555555556,
              "#d8576b"
             ],
             [
              0.6666666666666666,
              "#ed7953"
             ],
             [
              0.7777777777777778,
              "#fb9f3a"
             ],
             [
              0.8888888888888888,
              "#fdca26"
             ],
             [
              1,
              "#f0f921"
             ]
            ],
            "type": "histogram2d"
           }
          ],
          "histogram2dcontour": [
           {
            "colorbar": {
             "outlinewidth": 0,
             "ticks": ""
            },
            "colorscale": [
             [
              0,
              "#0d0887"
             ],
             [
              0.1111111111111111,
              "#46039f"
             ],
             [
              0.2222222222222222,
              "#7201a8"
             ],
             [
              0.3333333333333333,
              "#9c179e"
             ],
             [
              0.4444444444444444,
              "#bd3786"
             ],
             [
              0.5555555555555556,
              "#d8576b"
             ],
             [
              0.6666666666666666,
              "#ed7953"
             ],
             [
              0.7777777777777778,
              "#fb9f3a"
             ],
             [
              0.8888888888888888,
              "#fdca26"
             ],
             [
              1,
              "#f0f921"
             ]
            ],
            "type": "histogram2dcontour"
           }
          ],
          "mesh3d": [
           {
            "colorbar": {
             "outlinewidth": 0,
             "ticks": ""
            },
            "type": "mesh3d"
           }
          ],
          "parcoords": [
           {
            "line": {
             "colorbar": {
              "outlinewidth": 0,
              "ticks": ""
             }
            },
            "type": "parcoords"
           }
          ],
          "pie": [
           {
            "automargin": true,
            "type": "pie"
           }
          ],
          "scatter": [
           {
            "fillpattern": {
             "fillmode": "overlay",
             "size": 10,
             "solidity": 0.2
            },
            "type": "scatter"
           }
          ],
          "scatter3d": [
           {
            "line": {
             "colorbar": {
              "outlinewidth": 0,
              "ticks": ""
             }
            },
            "marker": {
             "colorbar": {
              "outlinewidth": 0,
              "ticks": ""
             }
            },
            "type": "scatter3d"
           }
          ],
          "scattercarpet": [
           {
            "marker": {
             "colorbar": {
              "outlinewidth": 0,
              "ticks": ""
             }
            },
            "type": "scattercarpet"
           }
          ],
          "scattergeo": [
           {
            "marker": {
             "colorbar": {
              "outlinewidth": 0,
              "ticks": ""
             }
            },
            "type": "scattergeo"
           }
          ],
          "scattergl": [
           {
            "marker": {
             "colorbar": {
              "outlinewidth": 0,
              "ticks": ""
             }
            },
            "type": "scattergl"
           }
          ],
          "scattermapbox": [
           {
            "marker": {
             "colorbar": {
              "outlinewidth": 0,
              "ticks": ""
             }
            },
            "type": "scattermapbox"
           }
          ],
          "scatterpolar": [
           {
            "marker": {
             "colorbar": {
              "outlinewidth": 0,
              "ticks": ""
             }
            },
            "type": "scatterpolar"
           }
          ],
          "scatterpolargl": [
           {
            "marker": {
             "colorbar": {
              "outlinewidth": 0,
              "ticks": ""
             }
            },
            "type": "scatterpolargl"
           }
          ],
          "scatterternary": [
           {
            "marker": {
             "colorbar": {
              "outlinewidth": 0,
              "ticks": ""
             }
            },
            "type": "scatterternary"
           }
          ],
          "surface": [
           {
            "colorbar": {
             "outlinewidth": 0,
             "ticks": ""
            },
            "colorscale": [
             [
              0,
              "#0d0887"
             ],
             [
              0.1111111111111111,
              "#46039f"
             ],
             [
              0.2222222222222222,
              "#7201a8"
             ],
             [
              0.3333333333333333,
              "#9c179e"
             ],
             [
              0.4444444444444444,
              "#bd3786"
             ],
             [
              0.5555555555555556,
              "#d8576b"
             ],
             [
              0.6666666666666666,
              "#ed7953"
             ],
             [
              0.7777777777777778,
              "#fb9f3a"
             ],
             [
              0.8888888888888888,
              "#fdca26"
             ],
             [
              1,
              "#f0f921"
             ]
            ],
            "type": "surface"
           }
          ],
          "table": [
           {
            "cells": {
             "fill": {
              "color": "#EBF0F8"
             },
             "line": {
              "color": "white"
             }
            },
            "header": {
             "fill": {
              "color": "#C8D4E3"
             },
             "line": {
              "color": "white"
             }
            },
            "type": "table"
           }
          ]
         },
         "layout": {
          "annotationdefaults": {
           "arrowcolor": "#2a3f5f",
           "arrowhead": 0,
           "arrowwidth": 1
          },
          "autotypenumbers": "strict",
          "coloraxis": {
           "colorbar": {
            "outlinewidth": 0,
            "ticks": ""
           }
          },
          "colorscale": {
           "diverging": [
            [
             0,
             "#8e0152"
            ],
            [
             0.1,
             "#c51b7d"
            ],
            [
             0.2,
             "#de77ae"
            ],
            [
             0.3,
             "#f1b6da"
            ],
            [
             0.4,
             "#fde0ef"
            ],
            [
             0.5,
             "#f7f7f7"
            ],
            [
             0.6,
             "#e6f5d0"
            ],
            [
             0.7,
             "#b8e186"
            ],
            [
             0.8,
             "#7fbc41"
            ],
            [
             0.9,
             "#4d9221"
            ],
            [
             1,
             "#276419"
            ]
           ],
           "sequential": [
            [
             0,
             "#0d0887"
            ],
            [
             0.1111111111111111,
             "#46039f"
            ],
            [
             0.2222222222222222,
             "#7201a8"
            ],
            [
             0.3333333333333333,
             "#9c179e"
            ],
            [
             0.4444444444444444,
             "#bd3786"
            ],
            [
             0.5555555555555556,
             "#d8576b"
            ],
            [
             0.6666666666666666,
             "#ed7953"
            ],
            [
             0.7777777777777778,
             "#fb9f3a"
            ],
            [
             0.8888888888888888,
             "#fdca26"
            ],
            [
             1,
             "#f0f921"
            ]
           ],
           "sequentialminus": [
            [
             0,
             "#0d0887"
            ],
            [
             0.1111111111111111,
             "#46039f"
            ],
            [
             0.2222222222222222,
             "#7201a8"
            ],
            [
             0.3333333333333333,
             "#9c179e"
            ],
            [
             0.4444444444444444,
             "#bd3786"
            ],
            [
             0.5555555555555556,
             "#d8576b"
            ],
            [
             0.6666666666666666,
             "#ed7953"
            ],
            [
             0.7777777777777778,
             "#fb9f3a"
            ],
            [
             0.8888888888888888,
             "#fdca26"
            ],
            [
             1,
             "#f0f921"
            ]
           ]
          },
          "colorway": [
           "#636efa",
           "#EF553B",
           "#00cc96",
           "#ab63fa",
           "#FFA15A",
           "#19d3f3",
           "#FF6692",
           "#B6E880",
           "#FF97FF",
           "#FECB52"
          ],
          "font": {
           "color": "#2a3f5f"
          },
          "geo": {
           "bgcolor": "white",
           "lakecolor": "white",
           "landcolor": "#E5ECF6",
           "showlakes": true,
           "showland": true,
           "subunitcolor": "white"
          },
          "hoverlabel": {
           "align": "left"
          },
          "hovermode": "closest",
          "mapbox": {
           "style": "light"
          },
          "paper_bgcolor": "white",
          "plot_bgcolor": "#E5ECF6",
          "polar": {
           "angularaxis": {
            "gridcolor": "white",
            "linecolor": "white",
            "ticks": ""
           },
           "bgcolor": "#E5ECF6",
           "radialaxis": {
            "gridcolor": "white",
            "linecolor": "white",
            "ticks": ""
           }
          },
          "scene": {
           "xaxis": {
            "backgroundcolor": "#E5ECF6",
            "gridcolor": "white",
            "gridwidth": 2,
            "linecolor": "white",
            "showbackground": true,
            "ticks": "",
            "zerolinecolor": "white"
           },
           "yaxis": {
            "backgroundcolor": "#E5ECF6",
            "gridcolor": "white",
            "gridwidth": 2,
            "linecolor": "white",
            "showbackground": true,
            "ticks": "",
            "zerolinecolor": "white"
           },
           "zaxis": {
            "backgroundcolor": "#E5ECF6",
            "gridcolor": "white",
            "gridwidth": 2,
            "linecolor": "white",
            "showbackground": true,
            "ticks": "",
            "zerolinecolor": "white"
           }
          },
          "shapedefaults": {
           "line": {
            "color": "#2a3f5f"
           }
          },
          "ternary": {
           "aaxis": {
            "gridcolor": "white",
            "linecolor": "white",
            "ticks": ""
           },
           "baxis": {
            "gridcolor": "white",
            "linecolor": "white",
            "ticks": ""
           },
           "bgcolor": "#E5ECF6",
           "caxis": {
            "gridcolor": "white",
            "linecolor": "white",
            "ticks": ""
           }
          },
          "title": {
           "x": 0.05
          },
          "xaxis": {
           "automargin": true,
           "gridcolor": "white",
           "linecolor": "white",
           "ticks": "",
           "title": {
            "standoff": 15
           },
           "zerolinecolor": "white",
           "zerolinewidth": 2
          },
          "yaxis": {
           "automargin": true,
           "gridcolor": "white",
           "linecolor": "white",
           "ticks": "",
           "title": {
            "standoff": 15
           },
           "zerolinecolor": "white",
           "zerolinewidth": 2
          }
         }
        },
        "title": {
         "text": "Most Available Languages"
        },
        "xaxis": {
         "anchor": "y",
         "domain": [
          0,
          1
         ],
         "title": {
          "text": "Count"
         }
        },
        "yaxis": {
         "anchor": "x",
         "categoryorder": "total ascending",
         "domain": [
          0,
          1
         ],
         "title": {
          "text": "Languages"
         }
        }
       }
      }
     },
     "metadata": {},
     "output_type": "display_data"
    }
   ],
   "source": [
    "# Creating a bar plot using Plotly Express\n",
    "fig = px.bar(\n",
    "    pd.DataFrame(top_languages)[:10],  # Selecting the top 10 languages and converting them to a DataFrame\n",
    "    y='Languages',  # Setting the y-axis as 'Languages'\n",
    "    x='Count',  # Setting the x-axis as 'Count'\n",
    "    orientation='h',  # Setting the orientation to horizontal\n",
    "    title='Most Available Languages',  # Setting the title of the plot\n",
    "    color='Count',  # Coloring the bars based on the count of languages\n",
    "    color_continuous_scale=px.colors.qualitative.Prism  # Setting the color scale\n",
    ")\n",
    "\n",
    "# Updating the y-axis to order the languages in ascending total count\n",
    "fig.update_yaxes(categoryorder='total ascending')\n",
    "\n",
    "# Displaying the plot\n",
    "fig.show()\n"
   ]
  },
  {
   "cell_type": "code",
   "execution_count": 9,
   "metadata": {},
   "outputs": [
    {
     "name": "stdout",
     "output_type": "stream",
     "text": [
      "28\n"
     ]
    }
   ],
   "source": [
    "# Extracting genre information from the 'Genre' column and creating dummy variables\n",
    "Genres = netflix_data['Genre'].str.get_dummies(',')\n",
    "# Extracting column names and converting them to a list\n",
    "Genre = Genres.columns.str.strip().values.tolist()\n",
    "# Accessing the 'Genre' column\n",
    "Genres = netflix_data['Genre']\n",
    "# Initializing a dictionary to store genre counts\n",
    "Genre_Count = dict()\n",
    "\n",
    "# Looping through each genre\n",
    "for i in Genre:\n",
    "    # Counting the occurrences of each genre in the 'Genre' column and summing them up\n",
    "    p = Genres.str.count(i).sum()\n",
    "    # Adding the genre count to the dictionary\n",
    "    Genre_Count[i] = int(p)\n",
    "\n",
    "# Printing the number of unique genres\n",
    "print(len(Genre_Count))\n"
   ]
  },
  {
   "cell_type": "code",
   "execution_count": 10,
   "metadata": {},
   "outputs": [],
   "source": [
    "# Sorting the Genre_Count dictionary by values in descending order\n",
    "Genre_Count = {k: v for k, v in sorted(Genre_Count.items(), key=lambda item: item[1], reverse=True)}\n",
    "\n",
    "# Creating a dictionary to store the top genres and their counts\n",
    "top_genres = {\"Genre\": list(Genre_Count.keys()), \"Count\": list(Genre_Count.values())}\n"
   ]
  },
  {
   "cell_type": "code",
   "execution_count": 11,
   "metadata": {},
   "outputs": [
    {
     "data": {
      "application/vnd.plotly.v1+json": {
       "config": {
        "plotlyServerURL": "https://plot.ly"
       },
       "data": [
        {
         "alignmentgroup": "True",
         "hovertemplate": "Count=%{marker.color}<br>Genre=%{y}<extra></extra>",
         "legendgroup": "",
         "marker": {
          "color": [
           4797,
           3302,
           2141,
           2065,
           1810,
           1512,
           1349,
           1222,
           1168,
           949
          ],
          "coloraxis": "coloraxis",
          "pattern": {
           "shape": ""
          }
         },
         "name": "",
         "offsetgroup": "",
         "orientation": "h",
         "showlegend": false,
         "textposition": "auto",
         "type": "bar",
         "x": [
          4797,
          3302,
          2141,
          2065,
          1810,
          1512,
          1349,
          1222,
          1168,
          949
         ],
         "xaxis": "x",
         "y": [
          "Drama",
          "Comedy",
          "Action",
          "Thriller",
          "Romance",
          "Crime",
          "Adventure",
          "Fantasy",
          "Animation",
          "Sci-Fi"
         ],
         "yaxis": "y"
        }
       ],
       "layout": {
        "barmode": "relative",
        "coloraxis": {
         "colorbar": {
          "title": {
           "text": "Count"
          }
         },
         "colorscale": [
          [
           0,
           "rgb(95, 70, 144)"
          ],
          [
           0.1,
           "rgb(29, 105, 150)"
          ],
          [
           0.2,
           "rgb(56, 166, 165)"
          ],
          [
           0.3,
           "rgb(15, 133, 84)"
          ],
          [
           0.4,
           "rgb(115, 175, 72)"
          ],
          [
           0.5,
           "rgb(237, 173, 8)"
          ],
          [
           0.6,
           "rgb(225, 124, 5)"
          ],
          [
           0.7,
           "rgb(204, 80, 62)"
          ],
          [
           0.8,
           "rgb(148, 52, 110)"
          ],
          [
           0.9,
           "rgb(111, 64, 112)"
          ],
          [
           1,
           "rgb(102, 102, 102)"
          ]
         ]
        },
        "legend": {
         "tracegroupgap": 0
        },
        "template": {
         "data": {
          "bar": [
           {
            "error_x": {
             "color": "#2a3f5f"
            },
            "error_y": {
             "color": "#2a3f5f"
            },
            "marker": {
             "line": {
              "color": "#E5ECF6",
              "width": 0.5
             },
             "pattern": {
              "fillmode": "overlay",
              "size": 10,
              "solidity": 0.2
             }
            },
            "type": "bar"
           }
          ],
          "barpolar": [
           {
            "marker": {
             "line": {
              "color": "#E5ECF6",
              "width": 0.5
             },
             "pattern": {
              "fillmode": "overlay",
              "size": 10,
              "solidity": 0.2
             }
            },
            "type": "barpolar"
           }
          ],
          "carpet": [
           {
            "aaxis": {
             "endlinecolor": "#2a3f5f",
             "gridcolor": "white",
             "linecolor": "white",
             "minorgridcolor": "white",
             "startlinecolor": "#2a3f5f"
            },
            "baxis": {
             "endlinecolor": "#2a3f5f",
             "gridcolor": "white",
             "linecolor": "white",
             "minorgridcolor": "white",
             "startlinecolor": "#2a3f5f"
            },
            "type": "carpet"
           }
          ],
          "choropleth": [
           {
            "colorbar": {
             "outlinewidth": 0,
             "ticks": ""
            },
            "type": "choropleth"
           }
          ],
          "contour": [
           {
            "colorbar": {
             "outlinewidth": 0,
             "ticks": ""
            },
            "colorscale": [
             [
              0,
              "#0d0887"
             ],
             [
              0.1111111111111111,
              "#46039f"
             ],
             [
              0.2222222222222222,
              "#7201a8"
             ],
             [
              0.3333333333333333,
              "#9c179e"
             ],
             [
              0.4444444444444444,
              "#bd3786"
             ],
             [
              0.5555555555555556,
              "#d8576b"
             ],
             [
              0.6666666666666666,
              "#ed7953"
             ],
             [
              0.7777777777777778,
              "#fb9f3a"
             ],
             [
              0.8888888888888888,
              "#fdca26"
             ],
             [
              1,
              "#f0f921"
             ]
            ],
            "type": "contour"
           }
          ],
          "contourcarpet": [
           {
            "colorbar": {
             "outlinewidth": 0,
             "ticks": ""
            },
            "type": "contourcarpet"
           }
          ],
          "heatmap": [
           {
            "colorbar": {
             "outlinewidth": 0,
             "ticks": ""
            },
            "colorscale": [
             [
              0,
              "#0d0887"
             ],
             [
              0.1111111111111111,
              "#46039f"
             ],
             [
              0.2222222222222222,
              "#7201a8"
             ],
             [
              0.3333333333333333,
              "#9c179e"
             ],
             [
              0.4444444444444444,
              "#bd3786"
             ],
             [
              0.5555555555555556,
              "#d8576b"
             ],
             [
              0.6666666666666666,
              "#ed7953"
             ],
             [
              0.7777777777777778,
              "#fb9f3a"
             ],
             [
              0.8888888888888888,
              "#fdca26"
             ],
             [
              1,
              "#f0f921"
             ]
            ],
            "type": "heatmap"
           }
          ],
          "heatmapgl": [
           {
            "colorbar": {
             "outlinewidth": 0,
             "ticks": ""
            },
            "colorscale": [
             [
              0,
              "#0d0887"
             ],
             [
              0.1111111111111111,
              "#46039f"
             ],
             [
              0.2222222222222222,
              "#7201a8"
             ],
             [
              0.3333333333333333,
              "#9c179e"
             ],
             [
              0.4444444444444444,
              "#bd3786"
             ],
             [
              0.5555555555555556,
              "#d8576b"
             ],
             [
              0.6666666666666666,
              "#ed7953"
             ],
             [
              0.7777777777777778,
              "#fb9f3a"
             ],
             [
              0.8888888888888888,
              "#fdca26"
             ],
             [
              1,
              "#f0f921"
             ]
            ],
            "type": "heatmapgl"
           }
          ],
          "histogram": [
           {
            "marker": {
             "pattern": {
              "fillmode": "overlay",
              "size": 10,
              "solidity": 0.2
             }
            },
            "type": "histogram"
           }
          ],
          "histogram2d": [
           {
            "colorbar": {
             "outlinewidth": 0,
             "ticks": ""
            },
            "colorscale": [
             [
              0,
              "#0d0887"
             ],
             [
              0.1111111111111111,
              "#46039f"
             ],
             [
              0.2222222222222222,
              "#7201a8"
             ],
             [
              0.3333333333333333,
              "#9c179e"
             ],
             [
              0.4444444444444444,
              "#bd3786"
             ],
             [
              0.5555555555555556,
              "#d8576b"
             ],
             [
              0.6666666666666666,
              "#ed7953"
             ],
             [
              0.7777777777777778,
              "#fb9f3a"
             ],
             [
              0.8888888888888888,
              "#fdca26"
             ],
             [
              1,
              "#f0f921"
             ]
            ],
            "type": "histogram2d"
           }
          ],
          "histogram2dcontour": [
           {
            "colorbar": {
             "outlinewidth": 0,
             "ticks": ""
            },
            "colorscale": [
             [
              0,
              "#0d0887"
             ],
             [
              0.1111111111111111,
              "#46039f"
             ],
             [
              0.2222222222222222,
              "#7201a8"
             ],
             [
              0.3333333333333333,
              "#9c179e"
             ],
             [
              0.4444444444444444,
              "#bd3786"
             ],
             [
              0.5555555555555556,
              "#d8576b"
             ],
             [
              0.6666666666666666,
              "#ed7953"
             ],
             [
              0.7777777777777778,
              "#fb9f3a"
             ],
             [
              0.8888888888888888,
              "#fdca26"
             ],
             [
              1,
              "#f0f921"
             ]
            ],
            "type": "histogram2dcontour"
           }
          ],
          "mesh3d": [
           {
            "colorbar": {
             "outlinewidth": 0,
             "ticks": ""
            },
            "type": "mesh3d"
           }
          ],
          "parcoords": [
           {
            "line": {
             "colorbar": {
              "outlinewidth": 0,
              "ticks": ""
             }
            },
            "type": "parcoords"
           }
          ],
          "pie": [
           {
            "automargin": true,
            "type": "pie"
           }
          ],
          "scatter": [
           {
            "fillpattern": {
             "fillmode": "overlay",
             "size": 10,
             "solidity": 0.2
            },
            "type": "scatter"
           }
          ],
          "scatter3d": [
           {
            "line": {
             "colorbar": {
              "outlinewidth": 0,
              "ticks": ""
             }
            },
            "marker": {
             "colorbar": {
              "outlinewidth": 0,
              "ticks": ""
             }
            },
            "type": "scatter3d"
           }
          ],
          "scattercarpet": [
           {
            "marker": {
             "colorbar": {
              "outlinewidth": 0,
              "ticks": ""
             }
            },
            "type": "scattercarpet"
           }
          ],
          "scattergeo": [
           {
            "marker": {
             "colorbar": {
              "outlinewidth": 0,
              "ticks": ""
             }
            },
            "type": "scattergeo"
           }
          ],
          "scattergl": [
           {
            "marker": {
             "colorbar": {
              "outlinewidth": 0,
              "ticks": ""
             }
            },
            "type": "scattergl"
           }
          ],
          "scattermapbox": [
           {
            "marker": {
             "colorbar": {
              "outlinewidth": 0,
              "ticks": ""
             }
            },
            "type": "scattermapbox"
           }
          ],
          "scatterpolar": [
           {
            "marker": {
             "colorbar": {
              "outlinewidth": 0,
              "ticks": ""
             }
            },
            "type": "scatterpolar"
           }
          ],
          "scatterpolargl": [
           {
            "marker": {
             "colorbar": {
              "outlinewidth": 0,
              "ticks": ""
             }
            },
            "type": "scatterpolargl"
           }
          ],
          "scatterternary": [
           {
            "marker": {
             "colorbar": {
              "outlinewidth": 0,
              "ticks": ""
             }
            },
            "type": "scatterternary"
           }
          ],
          "surface": [
           {
            "colorbar": {
             "outlinewidth": 0,
             "ticks": ""
            },
            "colorscale": [
             [
              0,
              "#0d0887"
             ],
             [
              0.1111111111111111,
              "#46039f"
             ],
             [
              0.2222222222222222,
              "#7201a8"
             ],
             [
              0.3333333333333333,
              "#9c179e"
             ],
             [
              0.4444444444444444,
              "#bd3786"
             ],
             [
              0.5555555555555556,
              "#d8576b"
             ],
             [
              0.6666666666666666,
              "#ed7953"
             ],
             [
              0.7777777777777778,
              "#fb9f3a"
             ],
             [
              0.8888888888888888,
              "#fdca26"
             ],
             [
              1,
              "#f0f921"
             ]
            ],
            "type": "surface"
           }
          ],
          "table": [
           {
            "cells": {
             "fill": {
              "color": "#EBF0F8"
             },
             "line": {
              "color": "white"
             }
            },
            "header": {
             "fill": {
              "color": "#C8D4E3"
             },
             "line": {
              "color": "white"
             }
            },
            "type": "table"
           }
          ]
         },
         "layout": {
          "annotationdefaults": {
           "arrowcolor": "#2a3f5f",
           "arrowhead": 0,
           "arrowwidth": 1
          },
          "autotypenumbers": "strict",
          "coloraxis": {
           "colorbar": {
            "outlinewidth": 0,
            "ticks": ""
           }
          },
          "colorscale": {
           "diverging": [
            [
             0,
             "#8e0152"
            ],
            [
             0.1,
             "#c51b7d"
            ],
            [
             0.2,
             "#de77ae"
            ],
            [
             0.3,
             "#f1b6da"
            ],
            [
             0.4,
             "#fde0ef"
            ],
            [
             0.5,
             "#f7f7f7"
            ],
            [
             0.6,
             "#e6f5d0"
            ],
            [
             0.7,
             "#b8e186"
            ],
            [
             0.8,
             "#7fbc41"
            ],
            [
             0.9,
             "#4d9221"
            ],
            [
             1,
             "#276419"
            ]
           ],
           "sequential": [
            [
             0,
             "#0d0887"
            ],
            [
             0.1111111111111111,
             "#46039f"
            ],
            [
             0.2222222222222222,
             "#7201a8"
            ],
            [
             0.3333333333333333,
             "#9c179e"
            ],
            [
             0.4444444444444444,
             "#bd3786"
            ],
            [
             0.5555555555555556,
             "#d8576b"
            ],
            [
             0.6666666666666666,
             "#ed7953"
            ],
            [
             0.7777777777777778,
             "#fb9f3a"
            ],
            [
             0.8888888888888888,
             "#fdca26"
            ],
            [
             1,
             "#f0f921"
            ]
           ],
           "sequentialminus": [
            [
             0,
             "#0d0887"
            ],
            [
             0.1111111111111111,
             "#46039f"
            ],
            [
             0.2222222222222222,
             "#7201a8"
            ],
            [
             0.3333333333333333,
             "#9c179e"
            ],
            [
             0.4444444444444444,
             "#bd3786"
            ],
            [
             0.5555555555555556,
             "#d8576b"
            ],
            [
             0.6666666666666666,
             "#ed7953"
            ],
            [
             0.7777777777777778,
             "#fb9f3a"
            ],
            [
             0.8888888888888888,
             "#fdca26"
            ],
            [
             1,
             "#f0f921"
            ]
           ]
          },
          "colorway": [
           "#636efa",
           "#EF553B",
           "#00cc96",
           "#ab63fa",
           "#FFA15A",
           "#19d3f3",
           "#FF6692",
           "#B6E880",
           "#FF97FF",
           "#FECB52"
          ],
          "font": {
           "color": "#2a3f5f"
          },
          "geo": {
           "bgcolor": "white",
           "lakecolor": "white",
           "landcolor": "#E5ECF6",
           "showlakes": true,
           "showland": true,
           "subunitcolor": "white"
          },
          "hoverlabel": {
           "align": "left"
          },
          "hovermode": "closest",
          "mapbox": {
           "style": "light"
          },
          "paper_bgcolor": "white",
          "plot_bgcolor": "#E5ECF6",
          "polar": {
           "angularaxis": {
            "gridcolor": "white",
            "linecolor": "white",
            "ticks": ""
           },
           "bgcolor": "#E5ECF6",
           "radialaxis": {
            "gridcolor": "white",
            "linecolor": "white",
            "ticks": ""
           }
          },
          "scene": {
           "xaxis": {
            "backgroundcolor": "#E5ECF6",
            "gridcolor": "white",
            "gridwidth": 2,
            "linecolor": "white",
            "showbackground": true,
            "ticks": "",
            "zerolinecolor": "white"
           },
           "yaxis": {
            "backgroundcolor": "#E5ECF6",
            "gridcolor": "white",
            "gridwidth": 2,
            "linecolor": "white",
            "showbackground": true,
            "ticks": "",
            "zerolinecolor": "white"
           },
           "zaxis": {
            "backgroundcolor": "#E5ECF6",
            "gridcolor": "white",
            "gridwidth": 2,
            "linecolor": "white",
            "showbackground": true,
            "ticks": "",
            "zerolinecolor": "white"
           }
          },
          "shapedefaults": {
           "line": {
            "color": "#2a3f5f"
           }
          },
          "ternary": {
           "aaxis": {
            "gridcolor": "white",
            "linecolor": "white",
            "ticks": ""
           },
           "baxis": {
            "gridcolor": "white",
            "linecolor": "white",
            "ticks": ""
           },
           "bgcolor": "#E5ECF6",
           "caxis": {
            "gridcolor": "white",
            "linecolor": "white",
            "ticks": ""
           }
          },
          "title": {
           "x": 0.05
          },
          "xaxis": {
           "automargin": true,
           "gridcolor": "white",
           "linecolor": "white",
           "ticks": "",
           "title": {
            "standoff": 15
           },
           "zerolinecolor": "white",
           "zerolinewidth": 2
          },
          "yaxis": {
           "automargin": true,
           "gridcolor": "white",
           "linecolor": "white",
           "ticks": "",
           "title": {
            "standoff": 15
           },
           "zerolinecolor": "white",
           "zerolinewidth": 2
          }
         }
        },
        "title": {
         "text": "Genres with maximum content"
        },
        "xaxis": {
         "anchor": "y",
         "domain": [
          0,
          1
         ],
         "title": {
          "text": "Count"
         }
        },
        "yaxis": {
         "anchor": "x",
         "categoryorder": "total ascending",
         "domain": [
          0,
          1
         ],
         "title": {
          "text": "Genre"
         }
        }
       }
      }
     },
     "metadata": {},
     "output_type": "display_data"
    }
   ],
   "source": [
    "# Creating a bar plot using Plotly Express\n",
    "fig = px.bar(\n",
    "    pd.DataFrame(top_genres)[:10],  # Selecting the top 10 genres and converting them to a DataFrame\n",
    "    y='Genre',  # Setting the y-axis as 'Genre'\n",
    "    x='Count',  # Setting the x-axis as 'Count'\n",
    "    orientation='h',  # Setting the orientation to horizontal\n",
    "    title='Genres with maximum content',  # Setting the title of the plot\n",
    "    color='Count',  # Coloring the bars based on the count of genres\n",
    "    color_continuous_scale=px.colors.qualitative.Prism  # Setting the color scale\n",
    ")\n",
    "\n",
    "# Updating the y-axis to order the genres in ascending total count\n",
    "fig.update_yaxes(categoryorder='total ascending')\n",
    "\n",
    "# Displaying the plot\n",
    "fig.show()\n"
   ]
  },
  {
   "cell_type": "code",
   "execution_count": 12,
   "metadata": {},
   "outputs": [
    {
     "data": {
      "image/png": "[encoded data removed]",
      "text/plain": [
       "<Figure size 1080x360 with 1 Axes>"
      ]
     },
     "metadata": {
      "needs_background": "light"
     },
     "output_type": "display_data"
    }
   ],
   "source": [
    "# Sorting the Netflix data by 'IMDb Score' in descending order and selecting the top 15 entries\n",
    "top_15 = netflix_data.sort_values(by='IMDb Score', ascending=False).head(15)\n",
    "\n",
    "# Creating a new figure with a specified size for the plot\n",
    "plt.figure(figsize=(15, 5))\n",
    "\n",
    "# Creating a bar plot using seaborn\n",
    "sns.barplot(data=top_15, y=top_15.index, x=\"IMDb Score\")\n",
    "\n",
    "# Displaying the plot\n",
    "plt.show()\n"
   ]
  },
  {
   "cell_type": "code",
   "execution_count": 13,
   "metadata": {},
   "outputs": [],
   "source": [
    "# Removing duplicate indices from the DataFrame\n",
    "netflix_data = netflix_data[~netflix_data.index.duplicated()]\n"
   ]
  },
  {
   "cell_type": "code",
   "execution_count": 14,
   "metadata": {},
   "outputs": [
    {
     "data": {
      "text/plain": [
       "0"
      ]
     },
     "execution_count": 14,
     "metadata": {},
     "output_type": "execute_result"
    }
   ],
   "source": [
    "# Checking the number of duplicated indices in the DataFrame's index\n",
    "netflix_data.index.duplicated().sum()\n"
   ]
  },
  {
   "cell_type": "code",
   "execution_count": 15,
   "metadata": {},
   "outputs": [
    {
     "data": {
      "text/plain": [
       "0"
      ]
     },
     "execution_count": 15,
     "metadata": {},
     "output_type": "execute_result"
    }
   ],
   "source": [
    "# Checking the number of null (missing) values in the DataFrame's index\n",
    "netflix_data.index.isnull().sum()\n"
   ]
  },
  {
   "cell_type": "code",
   "execution_count": 16,
   "metadata": {},
   "outputs": [
    {
     "name": "stdout",
     "output_type": "stream",
     "text": [
      "25\n"
     ]
    }
   ],
   "source": [
    "# Converting the 'Genre' column to string type\n",
    "netflix_data['Genre'] = netflix_data['Genre'].astype('str')\n",
    "\n",
    "# Counting the number of occurrences where the 'Genre' column contains the string 'nan'\n",
    "print((netflix_data['Genre'] == 'nan').sum())\n"
   ]
  },
  {
   "cell_type": "code",
   "execution_count": 17,
   "metadata": {},
   "outputs": [
    {
     "name": "stdout",
     "output_type": "stream",
     "text": [
      "36\n"
     ]
    }
   ],
   "source": [
    "# Converting the 'Tags' column to string type\n",
    "netflix_data['Tags'] = netflix_data['Tags'].astype('str')\n",
    "\n",
    "# Counting the number of occurrences where the 'Tags' column contains the string 'nan'\n",
    "print((netflix_data['Tags'] == 'nan').sum())\n"
   ]
  },
  {
   "cell_type": "code",
   "execution_count": 18,
   "metadata": {},
   "outputs": [
    {
     "name": "stdout",
     "output_type": "stream",
     "text": [
      "0\n"
     ]
    }
   ],
   "source": [
    "# Counting the number of occurrences where both 'Genre' and 'Tags' columns contain the string 'nan'\n",
    "print(((netflix_data['Genre'] == 'nan') & (netflix_data['Tags'] == 'nan')).sum())\n",
    "\n",
    "# Conclusion: These two features can be used to recommend movies, as no movie can be left unrecommended\n"
   ]
  },
  {
   "cell_type": "code",
   "execution_count": 19,
   "metadata": {},
   "outputs": [
    {
     "name": "stdout",
     "output_type": "stream",
     "text": [
      "        IMDb Score\n",
      "count  9125.000000\n",
      "mean      6.955134\n",
      "std       0.896501\n",
      "min       1.600000\n",
      "25%       6.500000\n",
      "50%       7.000000\n",
      "75%       7.500000\n",
      "max       9.700000\n"
     ]
    },
    {
     "data": {
      "text/plain": [
       "0    6.6\n",
       "dtype: float64"
      ]
     },
     "execution_count": 19,
     "metadata": {},
     "output_type": "execute_result"
    }
   ],
   "source": [
    "# Displaying descriptive statistics for the 'IMDb Score' column\n",
    "print(netflix_data[['IMDb Score']].describe())\n",
    "\n",
    "# Finding the mode (most common value) of the 'IMDb Score' column\n",
    "netflix_data['IMDb Score'].mode()\n",
    "\n",
    "# Conclusion: This feature will be used to sort the movie or series list to represent the recommended items\n"
   ]
  },
  {
   "cell_type": "code",
   "execution_count": 20,
   "metadata": {},
   "outputs": [
    {
     "name": "stdout",
     "output_type": "stream",
     "text": [
      "        IMDb Score\n",
      "count  9132.000000\n",
      "mean      6.954862\n",
      "std       0.896212\n",
      "min       1.600000\n",
      "25%       6.500000\n",
      "50%       7.000000\n",
      "75%       7.500000\n",
      "max       9.700000\n"
     ]
    }
   ],
   "source": [
    "# Replacing null values or zero IMDb scores with the mode value 6.6\n",
    "netflix_data['IMDb Score'] = netflix_data['IMDb Score'].apply(lambda x: 6.6 if x == 0 or math.isnan(x) else x)\n",
    "\n",
    "# Displaying descriptive statistics for the 'IMDb Score' column after replacing null values\n",
    "print(netflix_data[['IMDb Score']].describe())\n",
    "\n",
    "# Conclusion: Since no value has suffered a change greater than 0.0003 after replacing null values with the mode value, \n",
    "#            we replace the null values with 6.6\n"
   ]
  },
  {
   "cell_type": "code",
   "execution_count": 21,
   "metadata": {},
   "outputs": [],
   "source": [
    "# Converting the 'Actors' column to string type\n",
    "netflix_data['Actors'] = netflix_data['Actors'].astype('str')\n",
    "\n",
    "# Converting the 'ViewerRating' column to string type\n",
    "netflix_data['ViewerRating'] = netflix_data['ViewerRating'].astype('str')\n"
   ]
  },
  {
   "cell_type": "code",
   "execution_count": 22,
   "metadata": {},
   "outputs": [],
   "source": [
    "def prepare_data(x):\n",
    "    \"\"\"\n",
    "    Function to prepare data by converting it to lowercase and removing spaces.\n",
    "    \n",
    "    Args:\n",
    "    x (str): Input data\n",
    "    \n",
    "    Returns:\n",
    "    str: Processed data\n",
    "    \"\"\"\n",
    "    return str.lower(x.replace(\" \", \"\"))\n"
   ]
  },
  {
   "cell_type": "code",
   "execution_count": 23,
   "metadata": {},
   "outputs": [],
   "source": [
    "# List of features to select from the Netflix data\n",
    "new_features = ['Genre', 'Tags', 'Actors', 'ViewerRating']\n",
    "\n",
    "# Selecting the specified features from the Netflix data\n",
    "selected_data = netflix_data[new_features]\n"
   ]
  },
  {
   "cell_type": "code",
   "execution_count": 24,
   "metadata": {},
   "outputs": [
    {
     "name": "stderr",
     "output_type": "stream",
     "text": [
      "c:\\Users\\HP\\AppData\\Local\\Programs\\Python\\Python310\\lib\\site-packages\\pandas\\core\\indexing.py:1951: SettingWithCopyWarning:\n",
      "\n",
      "\n",
      "A value is trying to be set on a copy of a slice from a DataFrame.\n",
      "Try using .loc[row_indexer,col_indexer] = value instead\n",
      "\n",
      "See the caveats in the documentation: https://pandas.pydata.org/pandas-docs/stable/user_guide/indexing.html#returning-a-view-versus-a-copy\n",
      "\n"
     ]
    },
    {
     "data": {
      "text/html": [
       "<div>\n",
       "<style scoped>\n",
       "    .dataframe tbody tr th:only-of-type {\n",
       "        vertical-align: middle;\n",
       "    }\n",
       "\n",
       "    .dataframe tbody tr th {\n",
       "        vertical-align: top;\n",
       "    }\n",
       "\n",
       "    .dataframe thead th {\n",
       "        text-align: right;\n",
       "    }\n",
       "</style>\n",
       "<table border=\"1\" class=\"dataframe\">\n",
       "  <thead>\n",
       "    <tr style=\"text-align: right;\">\n",
       "      <th></th>\n",
       "      <th>Genre</th>\n",
       "      <th>Tags</th>\n",
       "      <th>Actors</th>\n",
       "      <th>ViewerRating</th>\n",
       "    </tr>\n",
       "    <tr>\n",
       "      <th>Title</th>\n",
       "      <th></th>\n",
       "      <th></th>\n",
       "      <th></th>\n",
       "      <th></th>\n",
       "    </tr>\n",
       "  </thead>\n",
       "  <tbody>\n",
       "    <tr>\n",
       "      <th>letsfightghost</th>\n",
       "      <td>crime,drama,fantasy,horror,romance</td>\n",
       "      <td>comedyprogrammes,romantictvcomedies,horrorprog...</td>\n",
       "      <td>linaleandersson,kårehedebrant,perragnar,henrik...</td>\n",
       "      <td>r</td>\n",
       "    </tr>\n",
       "    <tr>\n",
       "      <th>howtobuildagirl</th>\n",
       "      <td>comedy</td>\n",
       "      <td>dramas,comedies,filmsbasedonbooks,british</td>\n",
       "      <td>cleo,paddyconsidine,beaniefeldstein,dónalfinn</td>\n",
       "      <td>r</td>\n",
       "    </tr>\n",
       "  </tbody>\n",
       "</table>\n",
       "</div>"
      ],
      "text/plain": [
       "                                              Genre  \\\n",
       "Title                                                 \n",
       "letsfightghost   crime,drama,fantasy,horror,romance   \n",
       "howtobuildagirl                              comedy   \n",
       "\n",
       "                                                              Tags  \\\n",
       "Title                                                                \n",
       "letsfightghost   comedyprogrammes,romantictvcomedies,horrorprog...   \n",
       "howtobuildagirl          dramas,comedies,filmsbasedonbooks,british   \n",
       "\n",
       "                                                            Actors  \\\n",
       "Title                                                                \n",
       "letsfightghost   linaleandersson,kårehedebrant,perragnar,henrik...   \n",
       "howtobuildagirl      cleo,paddyconsidine,beaniefeldstein,dónalfinn   \n",
       "\n",
       "                ViewerRating  \n",
       "Title                         \n",
       "letsfightghost             r  \n",
       "howtobuildagirl            r  "
      ]
     },
     "execution_count": 24,
     "metadata": {},
     "output_type": "execute_result"
    }
   ],
   "source": [
    "# Iterating over each new feature in the list of new features\n",
    "for new_feature in new_features:\n",
    "    # Applying the prepare_data function to each element of the selected feature\n",
    "    selected_data.loc[:, new_feature] = selected_data.loc[:, new_feature].apply(prepare_data)\n",
    "\n",
    "# Converting index labels to lowercase and removing spaces\n",
    "selected_data.index = selected_data.index.str.lower().str.replace(\" \", '')\n",
    "\n",
    "# Displaying the first two rows of the modified selected_data DataFrame\n",
    "selected_data.head(2)\n"
   ]
  },
  {
   "cell_type": "code",
   "execution_count": 25,
   "metadata": {},
   "outputs": [],
   "source": [
    "def create_soup(x):\n",
    "    \"\"\"\n",
    "    Function to create a soup of textual features for each entry.\n",
    "    \n",
    "    Args:\n",
    "    x (Series): Input data containing 'Genre', 'Tags', 'Actors', and 'ViewerRating' columns\n",
    "    \n",
    "    Returns:\n",
    "    str: Combined textual features (soup)\n",
    "    \"\"\"\n",
    "    # Concatenating 'Genre', 'Tags', 'Actors', and 'ViewerRating' columns to create a soup\n",
    "    return x['Genre'] + ' ' + x['Tags'] + ' ' + x['Actors'] + ' ' + x['ViewerRating']\n"
   ]
  },
  {
   "cell_type": "code",
   "execution_count": 26,
   "metadata": {},
   "outputs": [
    {
     "name": "stderr",
     "output_type": "stream",
     "text": [
      "c:\\Users\\HP\\AppData\\Local\\Programs\\Python\\Python310\\lib\\site-packages\\pandas\\core\\indexing.py:1667: SettingWithCopyWarning:\n",
      "\n",
      "\n",
      "A value is trying to be set on a copy of a slice from a DataFrame.\n",
      "Try using .loc[row_indexer,col_indexer] = value instead\n",
      "\n",
      "See the caveats in the documentation: https://pandas.pydata.org/pandas-docs/stable/user_guide/indexing.html#returning-a-view-versus-a-copy\n",
      "\n"
     ]
    },
    {
     "data": {
      "text/html": [
       "<div>\n",
       "<style scoped>\n",
       "    .dataframe tbody tr th:only-of-type {\n",
       "        vertical-align: middle;\n",
       "    }\n",
       "\n",
       "    .dataframe tbody tr th {\n",
       "        vertical-align: top;\n",
       "    }\n",
       "\n",
       "    .dataframe thead th {\n",
       "        text-align: right;\n",
       "    }\n",
       "</style>\n",
       "<table border=\"1\" class=\"dataframe\">\n",
       "  <thead>\n",
       "    <tr style=\"text-align: right;\">\n",
       "      <th></th>\n",
       "      <th>Genre</th>\n",
       "      <th>Tags</th>\n",
       "      <th>Actors</th>\n",
       "      <th>ViewerRating</th>\n",
       "      <th>soup</th>\n",
       "    </tr>\n",
       "    <tr>\n",
       "      <th>Title</th>\n",
       "      <th></th>\n",
       "      <th></th>\n",
       "      <th></th>\n",
       "      <th></th>\n",
       "      <th></th>\n",
       "    </tr>\n",
       "  </thead>\n",
       "  <tbody>\n",
       "    <tr>\n",
       "      <th>letsfightghost</th>\n",
       "      <td>crime,drama,fantasy,horror,romance</td>\n",
       "      <td>comedyprogrammes,romantictvcomedies,horrorprog...</td>\n",
       "      <td>linaleandersson,kårehedebrant,perragnar,henrik...</td>\n",
       "      <td>r</td>\n",
       "      <td>crime,drama,fantasy,horror,romance comedyprogr...</td>\n",
       "    </tr>\n",
       "    <tr>\n",
       "      <th>howtobuildagirl</th>\n",
       "      <td>comedy</td>\n",
       "      <td>dramas,comedies,filmsbasedonbooks,british</td>\n",
       "      <td>cleo,paddyconsidine,beaniefeldstein,dónalfinn</td>\n",
       "      <td>r</td>\n",
       "      <td>comedy dramas,comedies,filmsbasedonbooks,briti...</td>\n",
       "    </tr>\n",
       "  </tbody>\n",
       "</table>\n",
       "</div>"
      ],
      "text/plain": [
       "                                              Genre  \\\n",
       "Title                                                 \n",
       "letsfightghost   crime,drama,fantasy,horror,romance   \n",
       "howtobuildagirl                              comedy   \n",
       "\n",
       "                                                              Tags  \\\n",
       "Title                                                                \n",
       "letsfightghost   comedyprogrammes,romantictvcomedies,horrorprog...   \n",
       "howtobuildagirl          dramas,comedies,filmsbasedonbooks,british   \n",
       "\n",
       "                                                            Actors  \\\n",
       "Title                                                                \n",
       "letsfightghost   linaleandersson,kårehedebrant,perragnar,henrik...   \n",
       "howtobuildagirl      cleo,paddyconsidine,beaniefeldstein,dónalfinn   \n",
       "\n",
       "                ViewerRating  \\\n",
       "Title                          \n",
       "letsfightghost             r   \n",
       "howtobuildagirl            r   \n",
       "\n",
       "                                                              soup  \n",
       "Title                                                               \n",
       "letsfightghost   crime,drama,fantasy,horror,romance comedyprogr...  \n",
       "howtobuildagirl  comedy dramas,comedies,filmsbasedonbooks,briti...  "
      ]
     },
     "execution_count": 26,
     "metadata": {},
     "output_type": "execute_result"
    }
   ],
   "source": [
    "# Applying the create_soup function to each row of selected_data and creating a new 'soup' column\n",
    "selected_data.loc[:, 'soup'] = selected_data.apply(create_soup, axis=1)\n",
    "\n",
    "# Displaying the first two rows of the modified selected_data DataFrame\n",
    "selected_data.head(2)\n"
   ]
  },
  {
   "cell_type": "code",
   "execution_count": 27,
   "metadata": {},
   "outputs": [],
   "source": [
    "# Initialize CountVectorizer with English stop words\n",
    "count = CountVectorizer(stop_words='english')\n",
    "\n",
    "# Convert textual soup data into a count matrix\n",
    "count_matrix = count.fit_transform(selected_data['soup'])\n",
    "\n",
    "# Compute cosine similarity matrix using count matrix\n",
    "cosine_sim2 = cosine_similarity(count_matrix, count_matrix)\n"
   ]
  },
  {
   "cell_type": "code",
   "execution_count": 28,
   "metadata": {},
   "outputs": [
    {
     "data": {
      "text/html": [
       "<div>\n",
       "<style scoped>\n",
       "    .dataframe tbody tr th:only-of-type {\n",
       "        vertical-align: middle;\n",
       "    }\n",
       "\n",
       "    .dataframe tbody tr th {\n",
       "        vertical-align: top;\n",
       "    }\n",
       "\n",
       "    .dataframe thead th {\n",
       "        text-align: right;\n",
       "    }\n",
       "</style>\n",
       "<table border=\"1\" class=\"dataframe\">\n",
       "  <thead>\n",
       "    <tr style=\"text-align: right;\">\n",
       "      <th></th>\n",
       "      <th>Title</th>\n",
       "      <th>Genre</th>\n",
       "      <th>Tags</th>\n",
       "      <th>Actors</th>\n",
       "      <th>ViewerRating</th>\n",
       "      <th>soup</th>\n",
       "    </tr>\n",
       "  </thead>\n",
       "  <tbody>\n",
       "    <tr>\n",
       "      <th>0</th>\n",
       "      <td>letsfightghost</td>\n",
       "      <td>crime,drama,fantasy,horror,romance</td>\n",
       "      <td>comedyprogrammes,romantictvcomedies,horrorprog...</td>\n",
       "      <td>linaleandersson,kårehedebrant,perragnar,henrik...</td>\n",
       "      <td>r</td>\n",
       "      <td>crime,drama,fantasy,horror,romance comedyprogr...</td>\n",
       "    </tr>\n",
       "    <tr>\n",
       "      <th>1</th>\n",
       "      <td>howtobuildagirl</td>\n",
       "      <td>comedy</td>\n",
       "      <td>dramas,comedies,filmsbasedonbooks,british</td>\n",
       "      <td>cleo,paddyconsidine,beaniefeldstein,dónalfinn</td>\n",
       "      <td>r</td>\n",
       "      <td>comedy dramas,comedies,filmsbasedonbooks,briti...</td>\n",
       "    </tr>\n",
       "  </tbody>\n",
       "</table>\n",
       "</div>"
      ],
      "text/plain": [
       "             Title                               Genre  \\\n",
       "0   letsfightghost  crime,drama,fantasy,horror,romance   \n",
       "1  howtobuildagirl                              comedy   \n",
       "\n",
       "                                                Tags  \\\n",
       "0  comedyprogrammes,romantictvcomedies,horrorprog...   \n",
       "1          dramas,comedies,filmsbasedonbooks,british   \n",
       "\n",
       "                                              Actors ViewerRating  \\\n",
       "0  linaleandersson,kårehedebrant,perragnar,henrik...            r   \n",
       "1      cleo,paddyconsidine,beaniefeldstein,dónalfinn            r   \n",
       "\n",
       "                                                soup  \n",
       "0  crime,drama,fantasy,horror,romance comedyprogr...  \n",
       "1  comedy dramas,comedies,filmsbasedonbooks,briti...  "
      ]
     },
     "execution_count": 28,
     "metadata": {},
     "output_type": "execute_result"
    }
   ],
   "source": [
    "# Resetting the index of selected_data inplace\n",
    "selected_data.reset_index(inplace=True)\n",
    "\n",
    "# Displaying the first two rows of the modified selected_data DataFrame\n",
    "selected_data.head(2)\n"
   ]
  },
  {
   "cell_type": "code",
   "execution_count": 29,
   "metadata": {},
   "outputs": [
    {
     "data": {
      "text/plain": [
       "Title\n",
       "letsfightghost                              0\n",
       "howtobuildagirl                             1\n",
       "thecon-heartist                             2\n",
       "glebokawoda                                 3\n",
       "onlyamother                                 4\n",
       "                                         ... \n",
       "13goingon30                              9127\n",
       "life2.0                                  9128\n",
       "brandnewday                              9129\n",
       "danielarends:blessuretijd                9130\n",
       "dreamworkshappyholidaysfrommadagascar    9131\n",
       "Length: 9132, dtype: int64"
      ]
     },
     "execution_count": 29,
     "metadata": {},
     "output_type": "execute_result"
    }
   ],
   "source": [
    "# Creating a Series where the indices are the titles and the values are the corresponding indices in selected_data\n",
    "indices = pd.Series(selected_data.index, index=selected_data['Title'])\n",
    "\n",
    "# Displaying the indices Series\n",
    "indices\n"
   ]
  },
  {
   "cell_type": "code",
   "execution_count": 30,
   "metadata": {},
   "outputs": [],
   "source": [
    "# Initialize a global variable 'result' to store the recommendations\n",
    "result = 0\n",
    "\n",
    "# Function to get recommendations based on title and cosine similarity matrix\n",
    "def get_recommendations(title, cosine_sim):\n",
    "    global result  # Accessing the global variable 'result'\n",
    "    \n",
    "    # Preprocess the title by removing spaces and converting to lowercase\n",
    "    title = title.replace(' ', '').lower()\n",
    "    \n",
    "    # Get the index of the title in the indices Series\n",
    "    idx = indices[title]\n",
    "    \n",
    "    # Get the pairwise similarity scores of all titles with the given title\n",
    "    sim_scores = list(enumerate(cosine_sim[idx]))\n",
    "    \n",
    "    # Sort the titles based on the similarity scores in descending order\n",
    "    sim_scores = sorted(sim_scores, key=lambda x: x[1], reverse=True)\n",
    "    \n",
    "    # Get the similarity scores of the 50 most similar titles (excluding the given title itself)\n",
    "    sim_scores = sim_scores[1:51]\n",
    "    \n",
    "    # Get the indices of the most similar titles\n",
    "    movie_indices = [i[0] for i in sim_scores]\n",
    "    \n",
    "    # Get the details of the top 50 most similar titles from the original DataFrame\n",
    "    result = netflix_data.iloc[movie_indices]\n",
    "    \n",
    "    # Reset the index of the result DataFrame\n",
    "    result.reset_index(inplace=True)\n",
    "    \n",
    "    return result\n"
   ]
  },
  {
   "cell_type": "code",
   "execution_count": 31,
   "metadata": {},
   "outputs": [],
   "source": [
    "# Create an empty DataFrame\n",
    "df = pd.DataFrame()\n",
    "\n",
    "# List of movie names\n",
    "movienames = ['Annabelle Comes Home', 'The Nun', 'Insidious: The Last Key', 'Conjuring 2', 'Insidious: Chapter 3']\n",
    "\n",
    "# List of languages\n",
    "languages = ['English', 'Hindi']\n",
    "\n",
    "# Loop through each movie name\n",
    "for moviename in movienames:\n",
    "    # Get recommendations for the current movie using the get_recommendations function\n",
    "    get_recommendations(moviename, cosine_sim2)\n",
    "    \n",
    "    # Loop through each language\n",
    "    for language in languages:\n",
    "        # Filter the recommendations based on the current language\n",
    "        filtered_results = result[result['Languages'].str.count(language) > 0]\n",
    "        \n",
    "        # Concatenate the filtered results with the DataFrame df\n",
    "        df = pd.concat([filtered_results, df], ignore_index=True)\n",
    "\n",
    "# Remove duplicate rows from the DataFrame\n",
    "df.drop_duplicates(keep='first', inplace=True)\n",
    "\n",
    "# Sort the DataFrame by 'IMDb Score' column in descending order\n",
    "df.sort_values(by='IMDb Score', ascending=False, inplace=True)\n"
   ]
  },
  {
   "cell_type": "code",
   "execution_count": 32,
   "metadata": {},
   "outputs": [
    {
     "name": "stdout",
     "output_type": "stream",
     "text": [
      "(118, 22)\n",
      "             Title                             Genre  \\\n",
      "114     The Others         Horror, Mystery, Thriller   \n",
      "50   The Conjuring         Horror, Mystery, Thriller   \n",
      "169     Hereditary  Drama, Horror, Mystery, Thriller   \n",
      "105          Split                  Horror, Thriller   \n",
      "201    Conjuring 2         Horror, Mystery, Thriller   \n",
      "\n",
      "                                                  Tags         Languages  \\\n",
      "114  20th Century Period Pieces,Thrillers,Mysteries...           English   \n",
      "50   Horror Films,Thrillers,Supernatural Horror Fil...    English, Latin   \n",
      "169  Supernatural Horror Movies,Horror Movies,Teen ...  English, Spanish   \n",
      "105  Psychological Thrillers,Horror Movies,Thriller...           English   \n",
      "201  Horror Films,Supernatural Horror Films,Films B...           English   \n",
      "\n",
      "                                  Country Availability   Runtime  \\\n",
      "114  Italy,Sweden,Switzerland,Turkey,Iceland,India,...  1-2 hour   \n",
      "50   France,Belgium,Lithuania,Switzerland,United Ki...  1-2 hour   \n",
      "169      South Korea,United Kingdom,Canada,Japan,India   > 2 hrs   \n",
      "105  Belgium,Netherlands,South Korea,Poland,France,...  1-2 hour   \n",
      "201  South Korea,Switzerland,Brazil,Germany,Italy,A...   > 2 hrs   \n",
      "\n",
      "               Director                                             Writer  \\\n",
      "114  Alejandro Amenábar                                 Alejandro Amenábar   \n",
      "50            James Wan                         Chad Hayes, Carey W. Hayes   \n",
      "169           Ari Aster                                          Ari Aster   \n",
      "105  M. Night Shyamalan                                 M. Night Shyamalan   \n",
      "201           James Wan  Chad Hayes, David Leslie Johnson-McGoldrick, J...   \n",
      "\n",
      "                                                Actors ViewerRating  ...  \\\n",
      "114  Alakina Mann, Christopher Eccleston, Fionnula ...        PG-13  ...   \n",
      "50   Vera Farmiga, Lili Taylor, Ron Livingston, Pat...            R  ...   \n",
      "169  Alex Wolff, Milly Shapiro, Toni Collette, Gabr...            R  ...   \n",
      "105  Haley Lu Richardson, James McAvoy, Anya Taylor...        PG-13  ...   \n",
      "201  Frances O'Connor, Vera Farmiga, Madison Wolfe,...            R  ...   \n",
      "\n",
      "     Awards Nominated For      Boxoffice  Release Date Netflix Release Date  \\\n",
      "114                  55.0   $9,65,22,687     10-Aug-01           14-04-2015   \n",
      "50                   22.0  $13,74,00,141     19-Jul-13           14-04-2015   \n",
      "169                 105.0   $4,40,69,456     08-Jun-18           15-02-2019   \n",
      "105                  23.0  $13,82,91,365     20-Jan-17           17-09-2018   \n",
      "201                  13.0  $10,24,70,008     10-Jun-16           28-03-2017   \n",
      "\n",
      "                                      Production House  \\\n",
      "114  Lucky Red, Miramax Films, Sogecine, Cruise-Wag...   \n",
      "50               Safran Company, Evergreen Media Group   \n",
      "169                                     PalmStar Media   \n",
      "105  Lightning Entertainment, Blinding Edge Picture...   \n",
      "201                     Safran Company, Atomic Monster   \n",
      "\n",
      "                               Netflix Link  \\\n",
      "114  https://www.netflix.com/watch/60021097   \n",
      "50   https://www.netflix.com/watch/70251894   \n",
      "169  https://www.netflix.com/watch/80238910   \n",
      "105  https://www.netflix.com/watch/80124506   \n",
      "201  https://www.netflix.com/watch/80091246   \n",
      "\n",
      "                                               Summary Series or Movie  \\\n",
      "114  While awaiting the return of her soldier husba...           Movie   \n",
      "50   Based on true events, this spine-chiller tells...           Movie   \n",
      "169  After the death of her mother, artist Annie an...           Movie   \n",
      "105  A man with multiple identities abducts three t...           Movie   \n",
      "201  A single mother and her four kids in London ar...           Movie   \n",
      "\n",
      "    IMDb Votes                                              Image  \n",
      "114   338889.0  https://occ-0-3377-185.1.nflxso.net/dnm/api/v6...  \n",
      "50    443192.0  https://occ-0-2851-38.1.nflxso.net/dnm/api/v6/...  \n",
      "169   241835.0  https://occ-0-1926-41.1.nflxso.net/dnm/api/v6/...  \n",
      "105   428760.0  https://occ-0-768-769.1.nflxso.net/dnm/api/v6/...  \n",
      "201   226713.0  https://occ-0-2773-2774.1.nflxso.net/dnm/api/v...  \n",
      "\n",
      "[5 rows x 22 columns]\n"
     ]
    }
   ],
   "source": [
    "# Print the shape of the DataFrame df\n",
    "print(df.shape)\n",
    "\n",
    "# Print the first few rows of the DataFrame df\n",
    "print(df.head())\n"
   ]
  }
 ],
 "metadata": {
  "interpreter": {
   "hash": "a9cff5a362bc38ef45d817ae74b1af54d6a076e3d773891282bce078b815ba34"
  },
  "kernelspec": {
   "display_name": "Python 3.10.2 64-bit",
   "language": "python",
   "name": "python3"
  },
  "language_info": {
   "codemirror_mode": {
    "name": "ipython",
    "version": 3
   },
   "file_extension": ".py",
   "mimetype": "text/x-python",
   "name": "python",
   "nbconvert_exporter": "python",
   "pygments_lexer": "ipython3",
   "version": "3.10.4"
  },
  "orig_nbformat": 4
 },
 "nbformat": 4,
 "nbformat_minor": 2
}
